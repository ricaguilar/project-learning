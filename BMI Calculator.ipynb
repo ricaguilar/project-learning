{
 "cells": [
  {
   "cell_type": "markdown",
   "id": "a435408b",
   "metadata": {},
   "source": [
    "# BMI Calculator"
   ]
  },
  {
   "cell_type": "code",
   "execution_count": 1,
   "id": "a0a8899b",
   "metadata": {},
   "outputs": [],
   "source": [
    "#BMI = (weight in pounds x 703) / (height in inches x height in inches)."
   ]
  },
  {
   "cell_type": "code",
   "execution_count": 31,
   "id": "9a8b8955",
   "metadata": {},
   "outputs": [
    {
     "name": "stdout",
     "output_type": "stream",
     "text": [
      "Enter your name: Ricardo\n"
     ]
    }
   ],
   "source": [
    "name = input('Enter your name: ')"
   ]
  },
  {
   "cell_type": "code",
   "execution_count": 16,
   "id": "a114159c",
   "metadata": {},
   "outputs": [
    {
     "name": "stdout",
     "output_type": "stream",
     "text": [
      "Enter your weight in pounds: 170\n"
     ]
    }
   ],
   "source": [
    "weight = int(input('Enter your weight in pounds: '))"
   ]
  },
  {
   "cell_type": "code",
   "execution_count": 17,
   "id": "e7fc34f3",
   "metadata": {},
   "outputs": [
    {
     "name": "stdout",
     "output_type": "stream",
     "text": [
      "170\n"
     ]
    }
   ],
   "source": [
    "print(weight)"
   ]
  },
  {
   "cell_type": "code",
   "execution_count": 24,
   "id": "b42dc643",
   "metadata": {},
   "outputs": [
    {
     "name": "stdout",
     "output_type": "stream",
     "text": [
      "Enter your height in inches: 67\n"
     ]
    }
   ],
   "source": [
    "height = int(input('Enter your height in inches: '))"
   ]
  },
  {
   "cell_type": "code",
   "execution_count": 25,
   "id": "abfb4bca",
   "metadata": {},
   "outputs": [
    {
     "name": "stdout",
     "output_type": "stream",
     "text": [
      "67\n"
     ]
    }
   ],
   "source": [
    "print(height)"
   ]
  },
  {
   "cell_type": "code",
   "execution_count": 26,
   "id": "0fd25ea0",
   "metadata": {},
   "outputs": [],
   "source": [
    "BMI = (weight * 703) / (height * height)"
   ]
  },
  {
   "cell_type": "code",
   "execution_count": 27,
   "id": "3559a9f2",
   "metadata": {},
   "outputs": [
    {
     "name": "stdout",
     "output_type": "stream",
     "text": [
      "26.62285586990421\n"
     ]
    }
   ],
   "source": [
    "print(BMI)"
   ]
  },
  {
   "cell_type": "markdown",
   "id": "99ffedc1",
   "metadata": {},
   "source": [
    "BMI\tClassification\tHealth Risk\n",
    "Under 18.5\tUnderweight\tMinimal\n",
    "18.5 - 24.9\tNormal Weight\tMinimal\n",
    "25 - 29.9\tOverweight\tIncreased\n",
    "30 - 34.9\tObese\tHigh\n",
    "35 - 39.9\tSeverely Obese\tVery High\n",
    "40 and over\tMorbidly Obese\tExtremely High"
   ]
  },
  {
   "cell_type": "code",
   "execution_count": 28,
   "id": "89b5b75c",
   "metadata": {},
   "outputs": [
    {
     "name": "stdout",
     "output_type": "stream",
     "text": [
      "You are overweight.\n"
     ]
    }
   ],
   "source": [
    "if BMI > 0:\n",
    "    if BMI < 18.5:\n",
    "        print(name + ', you are underweight.')\n",
    "    elif BMI <= 24.9:\n",
    "        print(name + ', you have normal weight.')\n",
    "    elif BMI <= 29.9:\n",
    "        print(name + ', you are overweight.')\n",
    "    elif BMI <= 34.9:\n",
    "        print(name + ', you are obese.')\n",
    "    elif BMI <= 39.9:\n",
    "        print(name + ', you are serverely obese')\n",
    "    elif BMI > 40:\n",
    "        print(name + ', You are morbidly obese')\n",
    "    else:\n",
    "        print('Enter valid inputs')\n",
    "else:\n",
    "    print('Enter valid ')"
   ]
  },
  {
   "cell_type": "code",
   "execution_count": null,
   "id": "a2b1db19",
   "metadata": {},
   "outputs": [],
   "source": []
  },
  {
   "cell_type": "code",
   "execution_count": null,
   "id": "a946e529",
   "metadata": {},
   "outputs": [],
   "source": []
  },
  {
   "cell_type": "code",
   "execution_count": null,
   "id": "2af0e024",
   "metadata": {},
   "outputs": [],
   "source": []
  },
  {
   "cell_type": "code",
   "execution_count": null,
   "id": "1d68cf4d",
   "metadata": {},
   "outputs": [],
   "source": []
  },
  {
   "cell_type": "code",
   "execution_count": null,
   "id": "718046a3",
   "metadata": {},
   "outputs": [],
   "source": []
  }
 ],
 "metadata": {
  "kernelspec": {
   "display_name": "Python 3 (ipykernel)",
   "language": "python",
   "name": "python3"
  },
  "language_info": {
   "codemirror_mode": {
    "name": "ipython",
    "version": 3
   },
   "file_extension": ".py",
   "mimetype": "text/x-python",
   "name": "python",
   "nbconvert_exporter": "python",
   "pygments_lexer": "ipython3",
   "version": "3.10.8"
  }
 },
 "nbformat": 4,
 "nbformat_minor": 5
}
