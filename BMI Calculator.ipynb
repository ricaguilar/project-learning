{
 "cells": [
  {
   "cell_type": "markdown",
   "id": "7a5a0b53",
   "metadata": {},
   "source": [
    "# BMI Calculator"
   ]
  },
  {
   "cell_type": "code",
   "execution_count": 1,
   "id": "1b7bd0ae",
   "metadata": {},
   "outputs": [],
   "source": [
    "#BMI = (weight in pounds x 703) / (height in inches x height in inches)."
   ]
  },
  {
   "cell_type": "code",
   "execution_count": 31,
   "id": "0547dde8",
   "metadata": {},
   "outputs": [
    {
     "name": "stdout",
     "output_type": "stream",
     "text": [
      "Enter your name: Ricardo\n"
     ]
    }
   ],
   "source": [
    "name = input('Enter your name: ')"
   ]
  },
  {
   "cell_type": "code",
   "execution_count": 16,
   "id": "94e6b541",
   "metadata": {},
   "outputs": [
    {
     "name": "stdout",
     "output_type": "stream",
     "text": [
      "Enter your weight in pounds: 170\n"
     ]
    }
   ],
   "source": [
    "weight = int(input('Enter your weight in pounds: '))"
   ]
  },
  {
   "cell_type": "code",
   "execution_count": 17,
   "id": "1a0eb6c0",
   "metadata": {},
   "outputs": [
    {
     "name": "stdout",
     "output_type": "stream",
     "text": [
      "170\n"
     ]
    }
   ],
   "source": [
    "print(weight)"
   ]
  },
  {
   "cell_type": "code",
   "execution_count": 24,
   "id": "9b3a0fc3",
   "metadata": {},
   "outputs": [
    {
     "name": "stdout",
     "output_type": "stream",
     "text": [
      "Enter your height in inches: 67\n"
     ]
    }
   ],
   "source": [
    "height = int(input('Enter your height in inches: '))"
   ]
  },
  {
   "cell_type": "code",
   "execution_count": 25,
   "id": "bb2da845",
   "metadata": {},
   "outputs": [
    {
     "name": "stdout",
     "output_type": "stream",
     "text": [
      "67\n"
     ]
    }
   ],
   "source": [
    "print(height)"
   ]
  },
  {
   "cell_type": "code",
   "execution_count": 26,
   "id": "dc133c9d",
   "metadata": {},
   "outputs": [],
   "source": [
    "BMI = (weight * 703) / (height * height)"
   ]
  },
  {
   "cell_type": "code",
   "execution_count": 27,
   "id": "e8cd9782",
   "metadata": {},
   "outputs": [
    {
     "name": "stdout",
     "output_type": "stream",
     "text": [
      "26.62285586990421\n"
     ]
    }
   ],
   "source": [
    "print(BMI)"
   ]
  },
  {
   "cell_type": "markdown",
   "id": "8a778f67",
   "metadata": {},
   "source": [
    "BMI\tClassification\tHealth Risk\n",
    "Under 18.5\tUnderweight\tMinimal\n",
    "18.5 - 24.9\tNormal Weight\tMinimal\n",
    "25 - 29.9\tOverweight\tIncreased\n",
    "30 - 34.9\tObese\tHigh\n",
    "35 - 39.9\tSeverely Obese\tVery High\n",
    "40 and over\tMorbidly Obese\tExtremely High"
   ]
  },
  {
   "cell_type": "code",
   "execution_count": 32,
   "id": "9156b132",
   "metadata": {},
   "outputs": [
    {
     "name": "stdout",
     "output_type": "stream",
     "text": [
      "Ricardo, you are overweight.\n"
     ]
    }
   ],
   "source": [
    "if BMI > 0:\n",
    "    if BMI < 18.5:\n",
    "        print(name + ', you are underweight.')\n",
    "    elif BMI <= 24.9:\n",
    "        print(name + ', you have normal weight.')\n",
    "    elif BMI <= 29.9:\n",
    "        print(name + ', you are overweight.')\n",
    "    elif BMI <= 34.9:\n",
    "        print(name + ', you are obese.')\n",
    "    elif BMI <= 39.9:\n",
    "        print(name + ', you are serverely obese')\n",
    "    elif BMI > 40:\n",
    "        print(name + ', You are morbidly obese')\n",
    "    else:\n",
    "        print('Enter valid inputs')\n",
    "else:\n",
    "    print('Enter valid inputs')"
   ]
  },
  {
   "cell_type": "code",
   "execution_count": null,
   "id": "a3a704f5",
   "metadata": {},
   "outputs": [],
   "source": []
  },
  {
   "cell_type": "code",
   "execution_count": null,
   "id": "d8a79515",
   "metadata": {},
   "outputs": [],
   "source": []
  },
  {
   "cell_type": "code",
   "execution_count": null,
   "id": "58526d7e",
   "metadata": {},
   "outputs": [],
   "source": []
  },
  {
   "cell_type": "code",
   "execution_count": null,
   "id": "4229f33f",
   "metadata": {},
   "outputs": [],
   "source": []
  },
  {
   "cell_type": "code",
   "execution_count": null,
   "id": "00ee96be",
   "metadata": {},
   "outputs": [],
   "source": []
  }
 ],
 "metadata": {
  "kernelspec": {
   "display_name": "Python 3 (ipykernel)",
   "language": "python",
   "name": "python3"
  },
  "language_info": {
   "codemirror_mode": {
    "name": "ipython",
    "version": 3
   },
   "file_extension": ".py",
   "mimetype": "text/x-python",
   "name": "python",
   "nbconvert_exporter": "python",
   "pygments_lexer": "ipython3",
   "version": "3.10.8"
  }
 },
 "nbformat": 4,
 "nbformat_minor": 5
}
